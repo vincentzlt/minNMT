{
 "cells": [
  {
   "cell_type": "code",
   "execution_count": 1,
   "metadata": {
    "ExecuteTime": {
     "end_time": "2020-10-08T02:24:25.828624Z",
     "start_time": "2020-10-08T02:24:24.822749Z"
    }
   },
   "outputs": [
    {
     "name": "stderr",
     "output_type": "stream",
     "text": [
      "/home/longtu/anaconda3/lib/python3.7/site-packages/tqdm/std.py:668: FutureWarning: The Panel class is removed from pandas. Accessing it from the top-level namespace will also be removed in the next version\n",
      "  from pandas import Panel\n"
     ]
    }
   ],
   "source": [
    "import torch\n",
    "import data\n",
    "import model"
   ]
  },
  {
   "cell_type": "code",
   "execution_count": 2,
   "metadata": {
    "ExecuteTime": {
     "end_time": "2020-10-08T02:24:25.916981Z",
     "start_time": "2020-10-08T02:24:25.830381Z"
    }
   },
   "outputs": [],
   "source": [
    "vocab = data.Vocab(lang='en',\n",
    "                   tok='moses',\n",
    "                   bpe='./data/wmt14.en-de/bpe.37k.share')\n",
    "# vocab.read_text('./data/wmt14.en-de/train.de.bpe')\n",
    "# vocab.read_text('./data/wmt14.en-de/train.en.bpe')\n",
    "# vocab.finalize('./data/wmt14.en-de/vocab.share')\n",
    "vocab.read_vocab('./data/wmt14.en-de/vocab.share')"
   ]
  },
  {
   "cell_type": "code",
   "execution_count": 3,
   "metadata": {
    "ExecuteTime": {
     "end_time": "2020-10-08T02:24:26.151020Z",
     "start_time": "2020-10-08T02:24:25.918746Z"
    }
   },
   "outputs": [
    {
     "data": {
      "text/plain": [
       "'hello world .'"
      ]
     },
     "execution_count": 3,
     "metadata": {},
     "output_type": "execute_result"
    },
    {
     "data": {
      "text/plain": [
       "['hello', 'world.']"
      ]
     },
     "execution_count": 3,
     "metadata": {},
     "output_type": "execute_result"
    },
    {
     "data": {
      "text/plain": [
       "['▁he', 'llo', '▁world', '.']"
      ]
     },
     "execution_count": 3,
     "metadata": {},
     "output_type": "execute_result"
    },
    {
     "data": {
      "text/plain": [
       "['hello', 'world.']"
      ]
     },
     "execution_count": 3,
     "metadata": {},
     "output_type": "execute_result"
    },
    {
     "data": {
      "text/plain": [
       "[58, 13592, 136, 50]"
      ]
     },
     "execution_count": 3,
     "metadata": {},
     "output_type": "execute_result"
    },
    {
     "data": {
      "text/plain": [
       "'hello world.'"
      ]
     },
     "execution_count": 3,
     "metadata": {},
     "output_type": "execute_result"
    },
    {
     "data": {
      "text/plain": [
       "[[2, 58, 13592, 136, 50, 3, 0, 0], [2, 58, 13592, 16, 142, 136, 50, 3]]"
      ]
     },
     "execution_count": 3,
     "metadata": {},
     "output_type": "execute_result"
    },
    {
     "data": {
      "text/plain": [
       "['hello world.', 'hello, you world.']"
      ]
     },
     "execution_count": 3,
     "metadata": {},
     "output_type": "execute_result"
    }
   ],
   "source": [
    "vocab.tok('hello world.')\n",
    "\n",
    "vocab.detok(['hello', 'world', '.'])\n",
    "\n",
    "vocab.bpe_encode('hello world.')\n",
    "\n",
    "vocab.bpe_decode(['▁he', 'llo', '▁world', '.'])\n",
    "\n",
    "vocab.str2ids('hello world.')\n",
    "\n",
    "vocab.ids2str([58, 13592, 136, 50])\n",
    "\n",
    "vocab.sents2batch(['hello world.', 'hello, you world.'])\n",
    "\n",
    "vocab.batch2sents([[2, 58, 13592, 136, 50, 3, 0, 0],\n",
    "                   [2, 58, 13592, 16, 142, 136, 50, 3]])"
   ]
  },
  {
   "cell_type": "code",
   "execution_count": 4,
   "metadata": {
    "ExecuteTime": {
     "end_time": "2020-10-08T02:24:26.262395Z",
     "start_time": "2020-10-08T02:24:26.152982Z"
    }
   },
   "outputs": [],
   "source": [
    "tf = model.Transformer()"
   ]
  },
  {
   "cell_type": "code",
   "execution_count": 5,
   "metadata": {
    "ExecuteTime": {
     "end_time": "2020-10-08T02:24:26.266603Z",
     "start_time": "2020-10-08T02:24:26.263728Z"
    },
    "scrolled": false
   },
   "outputs": [],
   "source": [
    "x = torch.rand(5, 4, 512)\n",
    "y = torch.rand(7, 4, 512)"
   ]
  },
  {
   "cell_type": "code",
   "execution_count": 7,
   "metadata": {
    "ExecuteTime": {
     "end_time": "2020-10-08T02:24:32.739823Z",
     "start_time": "2020-10-08T02:24:32.693742Z"
    }
   },
   "outputs": [
    {
     "data": {
      "text/plain": [
       "torch.Size([7, 4, 512])"
      ]
     },
     "execution_count": 7,
     "metadata": {},
     "output_type": "execute_result"
    }
   ],
   "source": [
    "tf(x,y).shape"
   ]
  },
  {
   "cell_type": "code",
   "execution_count": null,
   "metadata": {},
   "outputs": [],
   "source": []
  }
 ],
 "metadata": {
  "kernelspec": {
   "display_name": "Python 3",
   "language": "python",
   "name": "python3"
  },
  "language_info": {
   "codemirror_mode": {
    "name": "ipython",
    "version": 3
   },
   "file_extension": ".py",
   "mimetype": "text/x-python",
   "name": "python",
   "nbconvert_exporter": "python",
   "pygments_lexer": "ipython3",
   "version": "3.7.6"
  }
 },
 "nbformat": 4,
 "nbformat_minor": 4
}
